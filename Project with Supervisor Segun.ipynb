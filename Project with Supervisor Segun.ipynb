{
 "cells": [
  {
   "cell_type": "markdown",
   "id": "9ec70e60-a3f9-4102-b155-c8374e631a0a",
   "metadata": {},
   "source": [
    "# Importing Libraries"
   ]
  },
  {
   "cell_type": "code",
   "execution_count": 35,
   "id": "494d7495-b56e-4b9c-92c9-e91e363913d5",
   "metadata": {},
   "outputs": [],
   "source": [
    "import numpy as np\n",
    "import pandas as pd\n",
    "from matplotlib import pyplot as plt\n",
    "import seaborn as sns"
   ]
  },
  {
   "cell_type": "markdown",
   "id": "fdfec50f-45c7-4181-a549-fca991fde50a",
   "metadata": {},
   "source": [
    "# Importing Dataset"
   ]
  },
  {
   "cell_type": "code",
   "execution_count": 36,
   "id": "364b49a0-ffa2-498e-a58e-60b7ffdf3ba7",
   "metadata": {},
   "outputs": [
    {
     "data": {
      "text/html": [
       "<div>\n",
       "<style scoped>\n",
       "    .dataframe tbody tr th:only-of-type {\n",
       "        vertical-align: middle;\n",
       "    }\n",
       "\n",
       "    .dataframe tbody tr th {\n",
       "        vertical-align: top;\n",
       "    }\n",
       "\n",
       "    .dataframe thead th {\n",
       "        text-align: right;\n",
       "    }\n",
       "</style>\n",
       "<table border=\"1\" class=\"dataframe\">\n",
       "  <thead>\n",
       "    <tr style=\"text-align: right;\">\n",
       "      <th></th>\n",
       "      <th>clientid</th>\n",
       "      <th>income</th>\n",
       "      <th>age</th>\n",
       "      <th>loan</th>\n",
       "      <th>LTI</th>\n",
       "      <th>default</th>\n",
       "    </tr>\n",
       "  </thead>\n",
       "  <tbody>\n",
       "    <tr>\n",
       "      <th>0</th>\n",
       "      <td>1</td>\n",
       "      <td>66155.925095</td>\n",
       "      <td>59.017015</td>\n",
       "      <td>8106.532131</td>\n",
       "      <td>0.122537</td>\n",
       "      <td>0</td>\n",
       "    </tr>\n",
       "    <tr>\n",
       "      <th>1</th>\n",
       "      <td>2</td>\n",
       "      <td>34415.153966</td>\n",
       "      <td>48.117153</td>\n",
       "      <td>6564.745018</td>\n",
       "      <td>0.190752</td>\n",
       "      <td>0</td>\n",
       "    </tr>\n",
       "    <tr>\n",
       "      <th>2</th>\n",
       "      <td>3</td>\n",
       "      <td>57317.170063</td>\n",
       "      <td>63.108049</td>\n",
       "      <td>8020.953296</td>\n",
       "      <td>0.139940</td>\n",
       "      <td>0</td>\n",
       "    </tr>\n",
       "    <tr>\n",
       "      <th>3</th>\n",
       "      <td>4</td>\n",
       "      <td>42709.534201</td>\n",
       "      <td>45.751972</td>\n",
       "      <td>6103.642260</td>\n",
       "      <td>0.142911</td>\n",
       "      <td>0</td>\n",
       "    </tr>\n",
       "    <tr>\n",
       "      <th>4</th>\n",
       "      <td>5</td>\n",
       "      <td>66952.688845</td>\n",
       "      <td>18.584336</td>\n",
       "      <td>8770.099235</td>\n",
       "      <td>0.130989</td>\n",
       "      <td>1</td>\n",
       "    </tr>\n",
       "  </tbody>\n",
       "</table>\n",
       "</div>"
      ],
      "text/plain": [
       "   clientid        income        age         loan       LTI  default\n",
       "0         1  66155.925095  59.017015  8106.532131  0.122537        0\n",
       "1         2  34415.153966  48.117153  6564.745018  0.190752        0\n",
       "2         3  57317.170063  63.108049  8020.953296  0.139940        0\n",
       "3         4  42709.534201  45.751972  6103.642260  0.142911        0\n",
       "4         5  66952.688845  18.584336  8770.099235  0.130989        1"
      ]
     },
     "execution_count": 36,
     "metadata": {},
     "output_type": "execute_result"
    }
   ],
   "source": [
    "df = pd.read_csv(r\"C:\\Users\\benke\\Loan Prediction\\credit_data (1).csv\")\n",
    "df.head()"
   ]
  },
  {
   "cell_type": "markdown",
   "id": "5f003471-1f5b-4d89-a915-6b8929bf498c",
   "metadata": {},
   "source": [
    "# Data Investigation"
   ]
  },
  {
   "cell_type": "code",
   "execution_count": 37,
   "id": "77fef577-55a2-4fa9-abc7-c9c0990499a1",
   "metadata": {},
   "outputs": [
    {
     "data": {
      "text/plain": [
       "clientid    0\n",
       "income      0\n",
       "age         0\n",
       "loan        0\n",
       "LTI         0\n",
       "default     0\n",
       "dtype: int64"
      ]
     },
     "execution_count": 37,
     "metadata": {},
     "output_type": "execute_result"
    }
   ],
   "source": [
    "df.isnull().sum()"
   ]
  },
  {
   "cell_type": "code",
   "execution_count": 38,
   "id": "dccb56eb-1fe6-489c-a9c1-10ba7bfca292",
   "metadata": {},
   "outputs": [
    {
     "data": {
      "text/plain": [
       "0       False\n",
       "1       False\n",
       "2       False\n",
       "3       False\n",
       "4       False\n",
       "        ...  \n",
       "1995    False\n",
       "1996    False\n",
       "1997    False\n",
       "1998    False\n",
       "1999    False\n",
       "Length: 2000, dtype: bool"
      ]
     },
     "execution_count": 38,
     "metadata": {},
     "output_type": "execute_result"
    }
   ],
   "source": [
    "df.duplicated()"
   ]
  },
  {
   "cell_type": "code",
   "execution_count": 39,
   "id": "deea9912-7d3b-496d-9d3a-427f1363140e",
   "metadata": {},
   "outputs": [
    {
     "data": {
      "text/plain": [
       "(2000, 6)"
      ]
     },
     "execution_count": 39,
     "metadata": {},
     "output_type": "execute_result"
    }
   ],
   "source": [
    "df.shape"
   ]
  },
  {
   "cell_type": "code",
   "execution_count": 40,
   "id": "852dd723-5cfa-4670-bc05-9ef585e5b3ad",
   "metadata": {},
   "outputs": [
    {
     "name": "stdout",
     "output_type": "stream",
     "text": [
      "<class 'pandas.core.frame.DataFrame'>\n",
      "RangeIndex: 2000 entries, 0 to 1999\n",
      "Data columns (total 6 columns):\n",
      " #   Column    Non-Null Count  Dtype  \n",
      "---  ------    --------------  -----  \n",
      " 0   clientid  2000 non-null   int64  \n",
      " 1   income    2000 non-null   float64\n",
      " 2   age       2000 non-null   float64\n",
      " 3   loan      2000 non-null   float64\n",
      " 4   LTI       2000 non-null   float64\n",
      " 5   default   2000 non-null   int64  \n",
      "dtypes: float64(4), int64(2)\n",
      "memory usage: 93.9 KB\n"
     ]
    }
   ],
   "source": [
    "df.info()"
   ]
  },
  {
   "cell_type": "code",
   "execution_count": 41,
   "id": "2ab36160-405d-4aa8-bfe3-b740c149efed",
   "metadata": {},
   "outputs": [],
   "source": [
    "df.drop(columns = ['clientid'], axis =1, inplace=True)"
   ]
  },
  {
   "cell_type": "code",
   "execution_count": 42,
   "id": "9c0859b4-61d2-41a6-b2df-3c3220c84d6c",
   "metadata": {},
   "outputs": [
    {
     "data": {
      "text/html": [
       "<div>\n",
       "<style scoped>\n",
       "    .dataframe tbody tr th:only-of-type {\n",
       "        vertical-align: middle;\n",
       "    }\n",
       "\n",
       "    .dataframe tbody tr th {\n",
       "        vertical-align: top;\n",
       "    }\n",
       "\n",
       "    .dataframe thead th {\n",
       "        text-align: right;\n",
       "    }\n",
       "</style>\n",
       "<table border=\"1\" class=\"dataframe\">\n",
       "  <thead>\n",
       "    <tr style=\"text-align: right;\">\n",
       "      <th></th>\n",
       "      <th>income</th>\n",
       "      <th>age</th>\n",
       "      <th>loan</th>\n",
       "      <th>LTI</th>\n",
       "      <th>default</th>\n",
       "    </tr>\n",
       "  </thead>\n",
       "  <tbody>\n",
       "    <tr>\n",
       "      <th>0</th>\n",
       "      <td>66155.925095</td>\n",
       "      <td>59.017015</td>\n",
       "      <td>8106.532131</td>\n",
       "      <td>0.122537</td>\n",
       "      <td>0</td>\n",
       "    </tr>\n",
       "    <tr>\n",
       "      <th>1</th>\n",
       "      <td>34415.153966</td>\n",
       "      <td>48.117153</td>\n",
       "      <td>6564.745018</td>\n",
       "      <td>0.190752</td>\n",
       "      <td>0</td>\n",
       "    </tr>\n",
       "    <tr>\n",
       "      <th>2</th>\n",
       "      <td>57317.170063</td>\n",
       "      <td>63.108049</td>\n",
       "      <td>8020.953296</td>\n",
       "      <td>0.139940</td>\n",
       "      <td>0</td>\n",
       "    </tr>\n",
       "    <tr>\n",
       "      <th>3</th>\n",
       "      <td>42709.534201</td>\n",
       "      <td>45.751972</td>\n",
       "      <td>6103.642260</td>\n",
       "      <td>0.142911</td>\n",
       "      <td>0</td>\n",
       "    </tr>\n",
       "    <tr>\n",
       "      <th>4</th>\n",
       "      <td>66952.688845</td>\n",
       "      <td>18.584336</td>\n",
       "      <td>8770.099235</td>\n",
       "      <td>0.130989</td>\n",
       "      <td>1</td>\n",
       "    </tr>\n",
       "  </tbody>\n",
       "</table>\n",
       "</div>"
      ],
      "text/plain": [
       "         income        age         loan       LTI  default\n",
       "0  66155.925095  59.017015  8106.532131  0.122537        0\n",
       "1  34415.153966  48.117153  6564.745018  0.190752        0\n",
       "2  57317.170063  63.108049  8020.953296  0.139940        0\n",
       "3  42709.534201  45.751972  6103.642260  0.142911        0\n",
       "4  66952.688845  18.584336  8770.099235  0.130989        1"
      ]
     },
     "execution_count": 42,
     "metadata": {},
     "output_type": "execute_result"
    }
   ],
   "source": [
    "df.head()"
   ]
  },
  {
   "cell_type": "code",
   "execution_count": 43,
   "id": "5579f817-a42b-4c31-bcc6-3d7c3bd56e95",
   "metadata": {},
   "outputs": [],
   "source": [
    "df.rename(columns={'income': 'Income', 'age': 'Age', 'loan': 'Loan', 'default': 'Default'}, inplace=True)"
   ]
  },
  {
   "cell_type": "code",
   "execution_count": 44,
   "id": "9a640664-dc7d-481d-b938-1aa218e09f74",
   "metadata": {},
   "outputs": [
    {
     "data": {
      "text/html": [
       "<div>\n",
       "<style scoped>\n",
       "    .dataframe tbody tr th:only-of-type {\n",
       "        vertical-align: middle;\n",
       "    }\n",
       "\n",
       "    .dataframe tbody tr th {\n",
       "        vertical-align: top;\n",
       "    }\n",
       "\n",
       "    .dataframe thead th {\n",
       "        text-align: right;\n",
       "    }\n",
       "</style>\n",
       "<table border=\"1\" class=\"dataframe\">\n",
       "  <thead>\n",
       "    <tr style=\"text-align: right;\">\n",
       "      <th></th>\n",
       "      <th>Income</th>\n",
       "      <th>Age</th>\n",
       "      <th>Loan</th>\n",
       "      <th>LTI</th>\n",
       "      <th>Default</th>\n",
       "    </tr>\n",
       "  </thead>\n",
       "  <tbody>\n",
       "    <tr>\n",
       "      <th>0</th>\n",
       "      <td>66155.925095</td>\n",
       "      <td>59.017015</td>\n",
       "      <td>8106.532131</td>\n",
       "      <td>0.122537</td>\n",
       "      <td>0</td>\n",
       "    </tr>\n",
       "    <tr>\n",
       "      <th>1</th>\n",
       "      <td>34415.153966</td>\n",
       "      <td>48.117153</td>\n",
       "      <td>6564.745018</td>\n",
       "      <td>0.190752</td>\n",
       "      <td>0</td>\n",
       "    </tr>\n",
       "    <tr>\n",
       "      <th>2</th>\n",
       "      <td>57317.170063</td>\n",
       "      <td>63.108049</td>\n",
       "      <td>8020.953296</td>\n",
       "      <td>0.139940</td>\n",
       "      <td>0</td>\n",
       "    </tr>\n",
       "    <tr>\n",
       "      <th>3</th>\n",
       "      <td>42709.534201</td>\n",
       "      <td>45.751972</td>\n",
       "      <td>6103.642260</td>\n",
       "      <td>0.142911</td>\n",
       "      <td>0</td>\n",
       "    </tr>\n",
       "    <tr>\n",
       "      <th>4</th>\n",
       "      <td>66952.688845</td>\n",
       "      <td>18.584336</td>\n",
       "      <td>8770.099235</td>\n",
       "      <td>0.130989</td>\n",
       "      <td>1</td>\n",
       "    </tr>\n",
       "  </tbody>\n",
       "</table>\n",
       "</div>"
      ],
      "text/plain": [
       "         Income        Age         Loan       LTI  Default\n",
       "0  66155.925095  59.017015  8106.532131  0.122537        0\n",
       "1  34415.153966  48.117153  6564.745018  0.190752        0\n",
       "2  57317.170063  63.108049  8020.953296  0.139940        0\n",
       "3  42709.534201  45.751972  6103.642260  0.142911        0\n",
       "4  66952.688845  18.584336  8770.099235  0.130989        1"
      ]
     },
     "execution_count": 44,
     "metadata": {},
     "output_type": "execute_result"
    }
   ],
   "source": [
    "df.head()"
   ]
  },
  {
   "cell_type": "markdown",
   "id": "0f270103-7547-4187-86ef-43dc1666ca7f",
   "metadata": {},
   "source": [
    "# Feature Selection"
   ]
  },
  {
   "cell_type": "code",
   "execution_count": 45,
   "id": "6503ded6-b473-41dc-8b99-7e40d2cec3a7",
   "metadata": {},
   "outputs": [],
   "source": [
    "# Independent Variable \n",
    "\n",
    "X = df.drop('Default', axis=1)"
   ]
  },
  {
   "cell_type": "code",
   "execution_count": 46,
   "id": "5d999a8a-9dad-4cc7-b8ee-8e49f552b092",
   "metadata": {},
   "outputs": [
    {
     "data": {
      "text/html": [
       "<div>\n",
       "<style scoped>\n",
       "    .dataframe tbody tr th:only-of-type {\n",
       "        vertical-align: middle;\n",
       "    }\n",
       "\n",
       "    .dataframe tbody tr th {\n",
       "        vertical-align: top;\n",
       "    }\n",
       "\n",
       "    .dataframe thead th {\n",
       "        text-align: right;\n",
       "    }\n",
       "</style>\n",
       "<table border=\"1\" class=\"dataframe\">\n",
       "  <thead>\n",
       "    <tr style=\"text-align: right;\">\n",
       "      <th></th>\n",
       "      <th>Income</th>\n",
       "      <th>Age</th>\n",
       "      <th>Loan</th>\n",
       "      <th>LTI</th>\n",
       "    </tr>\n",
       "  </thead>\n",
       "  <tbody>\n",
       "    <tr>\n",
       "      <th>0</th>\n",
       "      <td>66155.925095</td>\n",
       "      <td>59.017015</td>\n",
       "      <td>8106.532131</td>\n",
       "      <td>0.122537</td>\n",
       "    </tr>\n",
       "    <tr>\n",
       "      <th>1</th>\n",
       "      <td>34415.153966</td>\n",
       "      <td>48.117153</td>\n",
       "      <td>6564.745018</td>\n",
       "      <td>0.190752</td>\n",
       "    </tr>\n",
       "    <tr>\n",
       "      <th>2</th>\n",
       "      <td>57317.170063</td>\n",
       "      <td>63.108049</td>\n",
       "      <td>8020.953296</td>\n",
       "      <td>0.139940</td>\n",
       "    </tr>\n",
       "    <tr>\n",
       "      <th>3</th>\n",
       "      <td>42709.534201</td>\n",
       "      <td>45.751972</td>\n",
       "      <td>6103.642260</td>\n",
       "      <td>0.142911</td>\n",
       "    </tr>\n",
       "    <tr>\n",
       "      <th>4</th>\n",
       "      <td>66952.688845</td>\n",
       "      <td>18.584336</td>\n",
       "      <td>8770.099235</td>\n",
       "      <td>0.130989</td>\n",
       "    </tr>\n",
       "  </tbody>\n",
       "</table>\n",
       "</div>"
      ],
      "text/plain": [
       "         Income        Age         Loan       LTI\n",
       "0  66155.925095  59.017015  8106.532131  0.122537\n",
       "1  34415.153966  48.117153  6564.745018  0.190752\n",
       "2  57317.170063  63.108049  8020.953296  0.139940\n",
       "3  42709.534201  45.751972  6103.642260  0.142911\n",
       "4  66952.688845  18.584336  8770.099235  0.130989"
      ]
     },
     "execution_count": 46,
     "metadata": {},
     "output_type": "execute_result"
    }
   ],
   "source": [
    "X.head()"
   ]
  },
  {
   "cell_type": "code",
   "execution_count": 47,
   "id": "709a943e-86ed-4d5d-8574-0a5680f7ede0",
   "metadata": {},
   "outputs": [],
   "source": [
    "# Dependent Variable\n",
    "y = df['Default']"
   ]
  },
  {
   "cell_type": "code",
   "execution_count": 48,
   "id": "85d15e29-96eb-4f8f-bb65-aed4ac8d7510",
   "metadata": {},
   "outputs": [
    {
     "data": {
      "text/plain": [
       "0    0\n",
       "1    0\n",
       "2    0\n",
       "3    0\n",
       "4    1\n",
       "Name: Default, dtype: int64"
      ]
     },
     "execution_count": 48,
     "metadata": {},
     "output_type": "execute_result"
    }
   ],
   "source": [
    "y.head()"
   ]
  },
  {
   "cell_type": "code",
   "execution_count": 49,
   "id": "bed123a8-3c2f-471f-b0d7-291952b9faee",
   "metadata": {},
   "outputs": [
    {
     "data": {
      "text/plain": [
       "Default\n",
       "0    1717\n",
       "1     283\n",
       "Name: count, dtype: int64"
      ]
     },
     "execution_count": 49,
     "metadata": {},
     "output_type": "execute_result"
    }
   ],
   "source": [
    "y_counts = y.value_counts()\n",
    "\n",
    "y_counts #0 is false, they will not default, 1 is True, they will default"
   ]
  },
  {
   "cell_type": "code",
   "execution_count": 50,
   "id": "65d414b1-8c62-4ecd-8b48-433ea4c43c68",
   "metadata": {},
   "outputs": [
    {
     "data": {
      "image/png": "[encoded data removed]",
      "text/plain": [
       "<Figure size 640x480 with 1 Axes>"
      ]
     },
     "metadata": {},
     "output_type": "display_data"
    }
   ],
   "source": [
    "# Visualizing the target \n",
    "\n",
    "# Create the bar plot\n",
    "plt.bar(y_counts.index, y_counts)\n",
    "\n",
    "# Add labels and title\n",
    "plt.xlabel('Target Value')\n",
    "plt.ylabel('Count')\n",
    "plt.title('Distribution of Target Variable')\n",
    "\n",
    "# Show the plot\n",
    "plt.show()"
   ]
  },
  {
   "cell_type": "code",
   "execution_count": 51,
   "id": "259fd166-2749-48c2-9103-7066393b1c93",
   "metadata": {},
   "outputs": [],
   "source": [
    "# import smote to balance dataset\n",
    "from imblearn.over_sampling import SMOTE"
   ]
  },
  {
   "cell_type": "code",
   "execution_count": 52,
   "id": "e7ab8b6b-04e6-449e-b9ab-7677a0f11797",
   "metadata": {},
   "outputs": [
    {
     "name": "stdout",
     "output_type": "stream",
     "text": [
      "Class Distribution Before Sampling: Counter({0: 1717, 1: 283})\n",
      "Class Distribution After Sampling: Counter({0: 1717, 1: 1717})\n"
     ]
    }
   ],
   "source": [
    "# balancing the imbalanced data\n",
    "\n",
    "from collections import Counter\n",
    "from imblearn.over_sampling import SMOTE\n",
    "\n",
    "# Assuming 'X' is your features and 'y' is your target variable\n",
    "\n",
    "# Apply SMOTE to oversample the minority class\n",
    "smote = SMOTE(sampling_strategy='auto')\n",
    "X_resampled, y_resampled = smote.fit_resample(X, y)\n",
    "\n",
    "# Print the class distribution before and after oversampling\n",
    "print(\"Class Distribution Before Sampling:\", Counter(y))\n",
    "print(\"Class Distribution After Sampling:\", Counter(y_resampled))"
   ]
  },
  {
   "cell_type": "markdown",
   "id": "f5189d1f-a503-40b8-8f26-d27f7508d54d",
   "metadata": {},
   "source": [
    "## Train-Test_Split"
   ]
  },
  {
   "cell_type": "code",
   "execution_count": 53,
   "id": "49754744-e55c-422d-a3d5-8c56d80160aa",
   "metadata": {},
   "outputs": [
    {
     "name": "stdout",
     "output_type": "stream",
     "text": [
      "\n",
      "             Income        Age         Loan       LTI\n",
      "3352  41681.974784  30.811608  7360.384546  0.176574\n",
      "2800  35894.339734  29.444767  5427.012862  0.151228\n",
      "\n",
      "             Income        Age         Loan       LTI\n",
      "2469  27285.112940  18.943338  4493.611754  0.164689\n",
      "3145  43717.930912  24.933023  7378.503391  0.168765\n",
      "\n",
      " 3352    1\n",
      "2800    1\n",
      "Name: Default, dtype: int64\n",
      "\n",
      " 2469    1\n",
      "3145    1\n",
      "Name: Default, dtype: int64\n"
     ]
    }
   ],
   "source": [
    "from sklearn.model_selection import train_test_split\n",
    "\n",
    "#split the data into tranining and testing sets\n",
    "\n",
    "X_train, X_test, y_train, y_test = train_test_split(X_resampled, y_resampled, test_size=0.3, random_state=42)\n",
    "\n",
    "print('\\n', X_train.head(2))\n",
    "print('\\n', X_test.head(2))\n",
    "print('\\n', y_train.head(2))\n",
    "print('\\n', y_test.head(2))"
   ]
  },
  {
   "cell_type": "markdown",
   "id": "9f27e8cd-ddd5-429a-97ba-96f60aa135a7",
   "metadata": {},
   "source": [
    "## Model Selection\n",
    "\n",
    "- Logistic Regression\n",
    "- Random Forest\n",
    "- Support Vector Machine "
   ]
  },
  {
   "cell_type": "markdown",
   "id": "b2beda79-2b6c-4648-9ba6-5703daf73c8a",
   "metadata": {},
   "source": [
    "### Importing Models"
   ]
  },
  {
   "cell_type": "code",
   "execution_count": 54,
   "id": "d9aa2fbe-84cc-4f16-8b8e-39a9823c48c1",
   "metadata": {},
   "outputs": [],
   "source": [
    "# importing algorithms and libraries for model building\n",
    "\n",
    "from sklearn.linear_model import LogisticRegression\n",
    "from sklearn.svm import SVC\n",
    "from sklearn.ensemble import RandomForestClassifier\n",
    "\n",
    "from sklearn.metrics import classification_report, confusion_matrix, roc_auc_score\n",
    "from sklearn import metrics\n",
    "\n",
    "# for hyperparameter tuning using k-fold cross validation\n",
    "from sklearn.model_selection import cross_val_score, cross_val_predict"
   ]
  },
  {
   "cell_type": "markdown",
   "id": "134dd68e-badd-4808-9eab-e263310904e1",
   "metadata": {},
   "source": [
    "## Scaling the Dataset"
   ]
  },
  {
   "cell_type": "code",
   "execution_count": 55,
   "id": "f3f537da-ad51-4dd6-bc16-13e01f77c62e",
   "metadata": {},
   "outputs": [],
   "source": [
    "# Scaling the test_train dataset using MinMaxScaler \n",
    "\n",
    "from sklearn.preprocessing import MinMaxScaler\n",
    "\n",
    "# Create an instance of MinMaxScaler\n",
    "scaler = MinMaxScaler()\n",
    "\n",
    "# Fit the scaler on the training features\n",
    "scaler.fit(X_train)\n",
    "\n",
    "# Transform the training and test features\n",
    "X_train_scaled = scaler.transform(X_train)\n",
    "X_test_scaled = scaler.transform(X_test)"
   ]
  },
  {
   "cell_type": "markdown",
   "id": "d59cef12-e070-4b43-9d62-d4d31c171d44",
   "metadata": {},
   "source": [
    "### Training the Model on Logistics Regression Algorithm"
   ]
  },
  {
   "cell_type": "code",
   "execution_count": 56,
   "id": "bb90384b-8180-4fc2-8560-08266754ede5",
   "metadata": {},
   "outputs": [],
   "source": [
    "# training the data using logistic regression\n",
    "\n",
    "#initializing the model\n",
    "lr_model = LogisticRegression()\n",
    "\n",
    "# fitting the model on the training set\n",
    "lr_model.fit(X_train_scaled, y_train)\n",
    "\n",
    "\n",
    "lr_probs = lr_model.predict_proba(X_test_scaled)[:, 1]"
   ]
  },
  {
   "cell_type": "code",
   "execution_count": 57,
   "id": "4cdbf719-0704-47fe-ab9c-aa0c43f028a6",
   "metadata": {},
   "outputs": [
    {
     "name": "stdout",
     "output_type": "stream",
     "text": [
      "The accuracy of the logistic regression is 95.05334626576139 %\n"
     ]
    }
   ],
   "source": [
    "# checking the accuracy of the model \n",
    "\n",
    "from sklearn.metrics import accuracy_score\n",
    "# create predictions\n",
    "y_pred = lr_model.predict(X_test_scaled)\n",
    "\n",
    "# print accuracy score for Logistic Regression\n",
    "print(f'The accuracy of the logistic regression is {accuracy_score(y_pred, y_test)*100} %')  # accuracy means how well the model is able to classify the two classes"
   ]
  },
  {
   "cell_type": "code",
   "execution_count": 58,
   "id": "eaf2dc38-6c49-447b-b068-8eb9b55f4b90",
   "metadata": {},
   "outputs": [
    {
     "name": "stdout",
     "output_type": "stream",
     "text": [
      "{'Model': 'lr_model', 'Accuracy': 0.950533462657614, 'Precision': 0.9511782420478072, 'Recall': 0.9523122150771367, 'F1-Score': 0.9505183802182683}\n"
     ]
    }
   ],
   "source": [
    "from sklearn.metrics import accuracy_score, precision_score, recall_score, f1_score\n",
    "\n",
    "def metrics_calculator(y_true, y_pred, model_name, average='macro'):\n",
    "    '''\n",
    "    Calculates and return a dictionary of performance metrics for a classification model\n",
    "    '''\n",
    "    # Calculate performance metrics\n",
    "    accuracy = accuracy_score(y_true, y_pred)\n",
    "    precision = precision_score(y_true, y_pred, average=average)\n",
    "    recall = recall_score(y_true, y_pred, average=average)\n",
    "    f1 = f1_score(y_true, y_pred, average=average)\n",
    "\n",
    "    # Create a dictionary of results\n",
    "    results = {'Model': model_name, 'Accuracy': accuracy, 'Precision': precision, 'Recall': recall, 'F1-Score': f1}\n",
    "    return results\n",
    "\n",
    "# Use the function with the 'macro' average for multiclass problems\n",
    "lr_result = metrics_calculator(y_test, y_pred, 'lr_model', average='macro')\n",
    "print(lr_result)\n"
   ]
  },
  {
   "cell_type": "markdown",
   "id": "1ea6f401-a053-4c8d-9676-811b61ef8dba",
   "metadata": {},
   "source": [
    "### Training the model using Support Vector Machine"
   ]
  },
  {
   "cell_type": "code",
   "execution_count": 59,
   "id": "e76f13e6-e785-4c08-88f8-37c5cdea30f2",
   "metadata": {},
   "outputs": [],
   "source": [
    "# training the model using support vector machine\n",
    "\n",
    "# initializing the model\n",
    "\n",
    "svm_model = SVC(probability=True)\n",
    "\n",
    "# Fit the model\n",
    "\n",
    "svm_model.fit(X_train_scaled, y_train)\n",
    "\n",
    "svm_predict = svm_model.predict(X_test_scaled)"
   ]
  },
  {
   "cell_type": "code",
   "execution_count": 60,
   "id": "8694d1ed-4b97-497d-9f24-ae696ee377d2",
   "metadata": {},
   "outputs": [
    {
     "name": "stdout",
     "output_type": "stream",
     "text": [
      "The accuracy of the Support Vector Machine is 97.96 %\n"
     ]
    }
   ],
   "source": [
    "# Calculate accuracy\n",
    "accuracy = accuracy_score(y_test, svm_predict)\n",
    "\n",
    "# Print the accuracy\n",
    "print(f'The accuracy of the Support Vector Machine is {accuracy*100:.2f} %')"
   ]
  },
  {
   "cell_type": "markdown",
   "id": "0d0cc905-cc7d-440c-8bbe-981260df7a5d",
   "metadata": {},
   "source": [
    "### Training the model on Random Forest"
   ]
  },
  {
   "cell_type": "code",
   "execution_count": 61,
   "id": "f67e7906-c67a-462f-924e-76e3a0e3543e",
   "metadata": {},
   "outputs": [],
   "source": [
    "# Initialize the model\n",
    "random_forest = RandomForestClassifier()\n",
    "\n",
    "# Fit the model\n",
    "random_forest.fit(X_train_scaled, y_train)\n",
    "\n",
    "# Make predictions\n",
    "random_forest_predict = random_forest.predict(X_test_scaled)"
   ]
  },
  {
   "cell_type": "code",
   "execution_count": 62,
   "id": "4dcc99a4-edb4-4c3c-b48a-ca1953b2fb88",
   "metadata": {},
   "outputs": [
    {
     "name": "stdout",
     "output_type": "stream",
     "text": [
      "The accuracy of the Random Forest is 100.00 %\n"
     ]
    }
   ],
   "source": [
    "# Calculate accuracy\n",
    "accuracy_random = accuracy_score(y_test, random_forest_predict)\n",
    "\n",
    "# Print accuracy\n",
    "print(f'The accuracy of the Random Forest is {accuracy_random*100:.2f} %')"
   ]
  },
  {
   "cell_type": "code",
   "execution_count": 63,
   "id": "fb1e789f-3f56-45df-a84f-8dd51dc97218",
   "metadata": {},
   "outputs": [
    {
     "name": "stdout",
     "output_type": "stream",
     "text": [
      "Logistic Regression Classification Report:\n",
      "              precision    recall  f1-score   support\n",
      "\n",
      "           0      0.986     0.919     0.951       543\n",
      "           1      0.916     0.986     0.950       488\n",
      "\n",
      "    accuracy                          0.951      1031\n",
      "   macro avg      0.951     0.952     0.951      1031\n",
      "weighted avg      0.953     0.951     0.951      1031\n",
      "\n"
     ]
    },
    {
     "data": {
      "image/png": "[encoded data removed]",
      "text/plain": [
       "<Figure size 600x400 with 2 Axes>"
      ]
     },
     "metadata": {},
     "output_type": "display_data"
    },
    {
     "name": "stdout",
     "output_type": "stream",
     "text": [
      "SVM Classification Report:\n",
      "              precision    recall  f1-score   support\n",
      "\n",
      "           0      1.000     0.961     0.980       543\n",
      "           1      0.959     1.000     0.979       488\n",
      "\n",
      "    accuracy                          0.980      1031\n",
      "   macro avg      0.979     0.981     0.980      1031\n",
      "weighted avg      0.980     0.980     0.980      1031\n",
      "\n"
     ]
    },
    {
     "data": {
      "image/png": "[encoded data removed]",
      "text/plain": [
       "<Figure size 600x400 with 2 Axes>"
      ]
     },
     "metadata": {},
     "output_type": "display_data"
    },
    {
     "name": "stdout",
     "output_type": "stream",
     "text": [
      "Random Forest Classification Report:\n",
      "              precision    recall  f1-score   support\n",
      "\n",
      "           0      1.000     1.000     1.000       543\n",
      "           1      1.000     1.000     1.000       488\n",
      "\n",
      "    accuracy                          1.000      1031\n",
      "   macro avg      1.000     1.000     1.000      1031\n",
      "weighted avg      1.000     1.000     1.000      1031\n",
      "\n"
     ]
    },
    {
     "data": {
      "image/png": "[encoded data removed]",
      "text/plain": [
       "<Figure size 600x400 with 2 Axes>"
      ]
     },
     "metadata": {},
     "output_type": "display_data"
    }
   ],
   "source": [
    "import matplotlib.pyplot as plt\n",
    "import seaborn as sns\n",
    "from sklearn.metrics import classification_report, confusion_matrix\n",
    "\n",
    "# Create a list of model names\n",
    "model_names = ['Logistic Regression', 'SVM', 'Random Forest']\n",
    "models = [lr_model, svm_model, random_forest]\n",
    "\n",
    "# Set the desired number of decimal places\n",
    "decimal_places = 3\n",
    "\n",
    "# Loop through each model and generate a classification report and confusion matrix\n",
    "for i, model in enumerate(models):\n",
    "    # Predict the classes of the testing data\n",
    "    y_pred = model.predict(X_test_scaled)\n",
    "    \n",
    "    # Generate the classification report with 3 decimal places\n",
    "    report = classification_report(y_test, y_pred, digits=decimal_places)\n",
    "    print(f'{model_names[i]} Classification Report:\\n{report}')\n",
    "    \n",
    "    # Create a new figure for each confusion matrix to avoid overlapping\n",
    "    plt.figure(figsize=(6, 4))\n",
    "    \n",
    "    # Add a heatmap style to the confusion matrix plot\n",
    "    sns.heatmap(confusion_matrix(y_test, y_pred), annot=True, fmt='d', cmap='Blues')\n",
    "    plt.title(f'Confusion Matrix: {model_names[i]}')\n",
    "    plt.xlabel('Predicted')\n",
    "    plt.ylabel('Actual')\n",
    "    plt.show()\n"
   ]
  },
  {
   "cell_type": "markdown",
   "id": "b6572fb3-70a5-4869-9633-2c5d22fc93ed",
   "metadata": {},
   "source": [
    "## Checking AUC-ROC"
   ]
  },
  {
   "cell_type": "code",
   "execution_count": 64,
   "id": "ea6c47a2-fc0c-481b-8088-5a23862c86dd",
   "metadata": {},
   "outputs": [
    {
     "ename": "IndexError",
     "evalue": "too many indices for array: array is 1-dimensional, but 2 were indexed",
     "output_type": "error",
     "traceback": [
      "\u001b[1;31m---------------------------------------------------------------------------\u001b[0m",
      "\u001b[1;31mIndexError\u001b[0m                                Traceback (most recent call last)",
      "Cell \u001b[1;32mIn[64], line 2\u001b[0m\n\u001b[0;32m      1\u001b[0m \u001b[38;5;66;03m# Use probabilities of the positive class (2nd column)\u001b[39;00m\n\u001b[1;32m----> 2\u001b[0m lr_auc \u001b[38;5;241m=\u001b[39m roc_auc_score(y_test, lr_probs[:, \u001b[38;5;241m1\u001b[39m])\n\u001b[0;32m      3\u001b[0m svm_auc \u001b[38;5;241m=\u001b[39m roc_auc_score(y_test, svm_probs[:, \u001b[38;5;241m1\u001b[39m])\n\u001b[0;32m      4\u001b[0m random_auc \u001b[38;5;241m=\u001b[39m roc_auc_score(y_test, random_probs[:, \u001b[38;5;241m1\u001b[39m])\n",
      "\u001b[1;31mIndexError\u001b[0m: too many indices for array: array is 1-dimensional, but 2 were indexed"
     ]
    }
   ],
   "source": [
    "# Use probabilities of the positive class (2nd column)\n",
    "lr_auc = roc_auc_score(y_test, lr_probs[:, 1])\n",
    "svm_auc = roc_auc_score(y_test, svm_probs[:, 1])\n",
    "random_auc = roc_auc_score(y_test, random_probs[:, 1])\n",
    "\n",
    "# Print the AUC-ROC scores\n",
    "print(f'Logistic Regression AUC-ROC: {lr_auc:.2f}')\n",
    "print(f'Support Vector Machine AUC-ROC: {svm_auc:.2f}')\n",
    "print(f'Random Forest AUC-ROC: {random_auc:.2f}')\n"
   ]
  },
  {
   "cell_type": "markdown",
   "id": "7123d5c2-b517-42a7-990b-a1732664a833",
   "metadata": {},
   "source": [
    "## Feature Engineering with Random Forest"
   ]
  },
  {
   "cell_type": "code",
   "execution_count": null,
   "id": "66f9003c-f672-481e-9bb8-60c9aac29481",
   "metadata": {},
   "outputs": [],
   "source": [
    "# Feature importances using Random Forest\n",
    "from sklearn.ensemble import RandomForestClassifier\n",
    "\n",
    "# Create a Random Forest classifier object\n",
    "rf_classifier = RandomForestClassifier()\n",
    "\n",
    "# Fit the classifier to your training data\n",
    "rf_classifier.fit(X_train_scaled, y_train)\n",
    "\n",
    "# Get feature importances from the trained classifier\n",
    "feature_importances = rf_classifier.feature_importances_\n",
    "\n",
    "# Display feature importances alongside feature names\n",
    "feature_names = X.columns\n",
    "feature_importances_dict = dict(zip(feature_names, feature_importances))\n",
    "sorted_feature_importance = sorted(feature_importances_dict.items(), key=lambda x: x[1], reverse=True)\n",
    "\n",
    "\n",
    "for feature, importance in sorted_feature_importance:\n",
    "    print(f'{feature}: {importance:.2f}')"
   ]
  },
  {
   "cell_type": "code",
   "execution_count": null,
   "id": "cb09fa82-4ea4-476e-b5cd-f48008fcc569",
   "metadata": {},
   "outputs": [],
   "source": [
    "# Create a DataFrame to store feature names and their importances\n",
    "feature_importance_df = pd.DataFrame({'Feature': feature_names, 'Importance': feature_importances})\n",
    "\n",
    "# Sort features by importance in descending order\n",
    "feature_importance_df = feature_importance_df.sort_values(by='Importance', ascending=False)\n",
    "\n",
    "# Plot the feature importances as a bar chart\n",
    "plt.figure(figsize=(10, 6))\n",
    "ax = sns.barplot(x='Importance', y='Feature', data=feature_importance_df)\n",
    "plt.xlabel('Importance')\n",
    "plt.ylabel('Feature')\n",
    "plt.title('Feature Importance')\n",
    "\n",
    "# Annotate the bars with the importance values\n",
    "for i, v in enumerate(feature_importance_df['Importance']):\n",
    "    ax.text(v, i, f'{v:.2f}', color='black', va='center', fontsize=10, fontweight='bold')\n",
    "\n",
    "plt.show()"
   ]
  },
  {
   "cell_type": "markdown",
   "id": "73f9e13d-f395-4491-8644-51f4f1c3747a",
   "metadata": {},
   "source": [
    "## Splitting the Features into train and test"
   ]
  },
  {
   "cell_type": "code",
   "execution_count": null,
   "id": "4987613b-d813-4cdf-a220-76948358e07a",
   "metadata": {},
   "outputs": [],
   "source": [
    "# split into training and validation set using 30-70 split ratio\n",
    "X_train, X_valid, y_train, y_valid = train_test_split(X_resampled, y_resampled, test_size=0.3)\n",
    "\n",
    "X_train2 = X_train[['Age', 'LTI', \"Loan\"]]\n",
    "X_valid2 = X_valid[['Age', 'LTI', \"Loan\"]]\n"
   ]
  },
  {
   "cell_type": "markdown",
   "id": "d3f495ac-82aa-46ff-bd94-6d53c9962ae6",
   "metadata": {},
   "source": [
    "## Using the best performing model to train the new features"
   ]
  },
  {
   "cell_type": "code",
   "execution_count": null,
   "id": "0b0cf16a-4ac1-4eb5-8c20-c989154f575a",
   "metadata": {},
   "outputs": [],
   "source": [
    "# Since Random Forest model is the best performing model\n",
    "\n",
    "# fit the model on the new training set\n",
    "random_forest.fit(X_train2, y_train)\n",
    "\n",
    "# predit on the new testing set\n",
    "y_valid2_pred = random_forest.predict(X_valid2)"
   ]
  },
  {
   "cell_type": "markdown",
   "id": "333a7a4d-90da-4192-91fc-4cc9b7f305f2",
   "metadata": {},
   "source": [
    "## Checking Accuracy"
   ]
  },
  {
   "cell_type": "code",
   "execution_count": null,
   "id": "c583c5bf-c766-4ceb-988c-97b944fc2b8e",
   "metadata": {},
   "outputs": [],
   "source": [
    "from sklearn.metrics import accuracy_score\n",
    "accuracy = accuracy_score(y_valid2_pred, y_valid)\n",
    "print(f'Accuracy Score: {accuracy:.2f}')"
   ]
  },
  {
   "cell_type": "markdown",
   "id": "b655c6b8-fc1b-40d0-8630-41b00d099a9e",
   "metadata": {},
   "source": [
    "## Checking Accuracy, Precision, Recall Score and F1-Score"
   ]
  },
  {
   "cell_type": "code",
   "execution_count": null,
   "id": "4a90a2bc-4a21-46e2-b308-5522d37ebe4f",
   "metadata": {},
   "outputs": [],
   "source": [
    "from sklearn.metrics import accuracy_score, precision_score, recall_score, f1_score\n",
    "\n",
    "# Calculate accuracy\n",
    "accuracy = accuracy_score(y_valid, y_valid2_pred)\n",
    "print(f'Accuracy Score: {accuracy:.2f}')\n",
    "\n",
    "# Calculate precision\n",
    "precision = precision_score(y_valid, y_valid2_pred, average='weighted')\n",
    "print(f'Precision Score: {precision:.2f}')\n",
    "\n",
    "# Calculate recall\n",
    "recall = recall_score(y_valid, y_valid2_pred, average='weighted')\n",
    "print(f'Recall Score: {recall:.2f}')\n",
    "\n",
    "# Calculate F1-score\n",
    "f1 = f1_score(y_valid, y_valid2_pred, average='weighted')\n",
    "print(f'F1-score: {f1:.2f}')\n"
   ]
  },
  {
   "cell_type": "code",
   "execution_count": 65,
   "id": "2a49dbd6-de9a-4b3e-b0ba-8beef28ef41d",
   "metadata": {},
   "outputs": [],
   "source": [
    "# Saving baseline model\n",
    "\n",
    "import pickle\n",
    "pickle_out = open('classifier.pkl', mode = 'wb')\n",
    "pickle.dump(random_forest, pickle_out)\n",
    "pickle_out.close()"
   ]
  },
  {
   "cell_type": "code",
   "execution_count": null,
   "id": "b9a88889-0347-45c4-81e3-79fd39c99223",
   "metadata": {},
   "outputs": [],
   "source": []
  }
 ],
 "metadata": {
  "kernelspec": {
   "display_name": "Python 3 (ipykernel)",
   "language": "python",
   "name": "python3"
  },
  "language_info": {
   "codemirror_mode": {
    "name": "ipython",
    "version": 3
   },
   "file_extension": ".py",
   "mimetype": "text/x-python",
   "name": "python",
   "nbconvert_exporter": "python",
   "pygments_lexer": "ipython3",
   "version": "3.11.5"
  }
 },
 "nbformat": 4,
 "nbformat_minor": 5
}
